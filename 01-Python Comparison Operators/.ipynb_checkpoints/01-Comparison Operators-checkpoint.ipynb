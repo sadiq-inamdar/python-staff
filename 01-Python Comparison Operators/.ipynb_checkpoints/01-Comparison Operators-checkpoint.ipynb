{
 "cells": [
  {
   "cell_type": "markdown",
   "id": "65578f5c",
   "metadata": {},
   "source": [
    "# Comparison Operators\n",
    "In this lecture we will be learning about Comparison Operators in Python. These operators will allow us to compare variables and output a Boolean value (True or False).\n",
    "\n",
    "If you have any sort of background in Math, these operators should be very straight forward.\n",
    "\n",
    "First we'll present a table of the comparison operators and then work through some examples:\n",
    "\n",
    "### Table of Comparison Operators\n",
    "In the table below, a=3 and b=4.\n",
    "\n",
    "Operator\tDescription\tExample\n",
    "==\tIf the values of two operands are equal, then the condition becomes true.\t(a == b) is not true.\n",
    "!=\tIf values of two operands are not equal, then condition becomes true.\t(a != b) is true\n",
    ">\tIf the value of left operand is greater than the value of right operand, then condition becomes true.\t(a > b) is not true.\n",
    "<\tIf the value of left operand is less than the value of right operand, then condition becomes true.\t(a < b) is true.\n",
    ">=\tIf the value of left operand is greater than or equal to the value of right operand, then condition becomes true.\t(a >= b) is not true.\n",
    "<=\tIf the value of left operand is less than or equal to the value of right operand, then condition becomes true.\t(a <= b) is true.\n",
    "Let's now work through quick examples of each of these.\n",
    "\n",
    "### Equal"
   ]
  },
  {
   "cell_type": "code",
   "execution_count": 1,
   "id": "cc628fee",
   "metadata": {},
   "outputs": [
    {
     "data": {
      "text/plain": [
       "True"
      ]
     },
     "execution_count": 1,
     "metadata": {},
     "output_type": "execute_result"
    }
   ],
   "source": [
    "2 == 2"
   ]
  },
  {
   "cell_type": "code",
   "execution_count": 2,
   "id": "b9032ccc",
   "metadata": {},
   "outputs": [
    {
     "data": {
      "text/plain": [
       "False"
      ]
     },
     "execution_count": 2,
     "metadata": {},
     "output_type": "execute_result"
    }
   ],
   "source": [
    "# Note that == is a comparison operator, while = is an assignment operator.\n",
    "1 == 0"
   ]
  },
  {
   "cell_type": "code",
   "execution_count": 3,
   "id": "67d1c605",
   "metadata": {},
   "outputs": [
    {
     "data": {
      "text/plain": [
       "True"
      ]
     },
     "execution_count": 3,
     "metadata": {},
     "output_type": "execute_result"
    }
   ],
   "source": [
    "# Not Equal\n",
    "2 != 1"
   ]
  },
  {
   "cell_type": "code",
   "execution_count": 4,
   "id": "5a9823a0",
   "metadata": {},
   "outputs": [
    {
     "data": {
      "text/plain": [
       "False"
      ]
     },
     "execution_count": 4,
     "metadata": {},
     "output_type": "execute_result"
    }
   ],
   "source": [
    "2 != 2"
   ]
  },
  {
   "cell_type": "code",
   "execution_count": 7,
   "id": "8d9b07da",
   "metadata": {},
   "outputs": [
    {
     "data": {
      "text/plain": [
       "False"
      ]
     },
     "execution_count": 7,
     "metadata": {},
     "output_type": "execute_result"
    }
   ],
   "source": [
    "# Greater Then\n",
    "2 > 5"
   ]
  },
  {
   "cell_type": "code",
   "execution_count": 8,
   "id": "698d8176",
   "metadata": {},
   "outputs": [
    {
     "data": {
      "text/plain": [
       "True"
      ]
     },
     "execution_count": 8,
     "metadata": {},
     "output_type": "execute_result"
    }
   ],
   "source": [
    "2 > 1"
   ]
  },
  {
   "cell_type": "code",
   "execution_count": 9,
   "id": "d8ad48af",
   "metadata": {},
   "outputs": [
    {
     "data": {
      "text/plain": [
       "True"
      ]
     },
     "execution_count": 9,
     "metadata": {},
     "output_type": "execute_result"
    }
   ],
   "source": [
    "# less Than\n",
    "2 < 4"
   ]
  },
  {
   "cell_type": "code",
   "execution_count": 10,
   "id": "2b3de6bb",
   "metadata": {},
   "outputs": [
    {
     "data": {
      "text/plain": [
       "False"
      ]
     },
     "execution_count": 10,
     "metadata": {},
     "output_type": "execute_result"
    }
   ],
   "source": [
    "2 < 1"
   ]
  },
  {
   "cell_type": "code",
   "execution_count": 13,
   "id": "569d7cd9",
   "metadata": {},
   "outputs": [
    {
     "data": {
      "text/plain": [
       "True"
      ]
     },
     "execution_count": 13,
     "metadata": {},
     "output_type": "execute_result"
    }
   ],
   "source": [
    "# Greater Than or Equal to\n",
    "2 >= 2"
   ]
  },
  {
   "cell_type": "code",
   "execution_count": 12,
   "id": "e8e91877",
   "metadata": {},
   "outputs": [
    {
     "data": {
      "text/plain": [
       "True"
      ]
     },
     "execution_count": 12,
     "metadata": {},
     "output_type": "execute_result"
    }
   ],
   "source": [
    "2 >= 1"
   ]
  },
  {
   "cell_type": "code",
   "execution_count": 14,
   "id": "28d81403",
   "metadata": {},
   "outputs": [
    {
     "data": {
      "text/plain": [
       "True"
      ]
     },
     "execution_count": 14,
     "metadata": {},
     "output_type": "execute_result"
    }
   ],
   "source": [
    "#Less than or Equal to\n",
    "2 <= 2"
   ]
  },
  {
   "cell_type": "code",
   "execution_count": 15,
   "id": "325f53c3",
   "metadata": {},
   "outputs": [
    {
     "data": {
      "text/plain": [
       "True"
      ]
     },
     "execution_count": 15,
     "metadata": {},
     "output_type": "execute_result"
    }
   ],
   "source": [
    "2 <= 4\n"
   ]
  },
  {
   "cell_type": "code",
   "execution_count": null,
   "id": "26138125",
   "metadata": {},
   "outputs": [],
   "source": []
  }
 ],
 "metadata": {
  "kernelspec": {
   "display_name": "Python 3 (ipykernel)",
   "language": "python",
   "name": "python3"
  },
  "language_info": {
   "codemirror_mode": {
    "name": "ipython",
    "version": 3
   },
   "file_extension": ".py",
   "mimetype": "text/x-python",
   "name": "python",
   "nbconvert_exporter": "python",
   "pygments_lexer": "ipython3",
   "version": "3.9.7"
  }
 },
 "nbformat": 4,
 "nbformat_minor": 5
}
