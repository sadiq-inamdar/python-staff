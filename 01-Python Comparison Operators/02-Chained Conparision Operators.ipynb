{
 "cells": [
  {
   "cell_type": "markdown",
   "id": "8bf601dd",
   "metadata": {},
   "source": [
    "# Chained Comparison Operators\n",
    "An interesting feature of Python is the ability to chain multiple comparisons to perform a more complex test. You can use these chained comparisons as shorthand for larger Boolean Expressions.\n",
    "\n",
    "In this lecture we will learn how to chain comparison operators and we will also introduce two other important statements in Python: and and or.\n",
    "\n",
    "Let's look at a few examples of using chains:"
   ]
  },
  {
   "cell_type": "code",
   "execution_count": 1,
   "id": "7b35fe56",
   "metadata": {},
   "outputs": [
    {
     "data": {
      "text/plain": [
       "True"
      ]
     },
     "execution_count": 1,
     "metadata": {},
     "output_type": "execute_result"
    }
   ],
   "source": [
    "1 < 2 < 3"
   ]
  },
  {
   "cell_type": "markdown",
   "id": "3a76f7b1",
   "metadata": {},
   "source": [
    "The above statement checks if 1 was less than 2 and if 2 was less than 3. We could have written this using an and statement in Python:"
   ]
  },
  {
   "cell_type": "code",
   "execution_count": 2,
   "id": "6ac88eee",
   "metadata": {},
   "outputs": [
    {
     "data": {
      "text/plain": [
       "True"
      ]
     },
     "execution_count": 2,
     "metadata": {},
     "output_type": "execute_result"
    }
   ],
   "source": [
    "1 < 2 and 2 < 3"
   ]
  },
  {
   "cell_type": "markdown",
   "id": "c297d3cb",
   "metadata": {},
   "source": [
    "The and is used to make sure two checks have to be true in order for the total check to be true. Let's see another example:"
   ]
  },
  {
   "cell_type": "code",
   "execution_count": 5,
   "id": "062935d5",
   "metadata": {},
   "outputs": [
    {
     "data": {
      "text/plain": [
       "False"
      ]
     },
     "execution_count": 5,
     "metadata": {},
     "output_type": "execute_result"
    }
   ],
   "source": [
    "1 < 3 < 2"
   ]
  },
  {
   "cell_type": "code",
   "execution_count": 7,
   "id": "be6282c1",
   "metadata": {},
   "outputs": [
    {
     "data": {
      "text/plain": [
       "False"
      ]
     },
     "execution_count": 7,
     "metadata": {},
     "output_type": "execute_result"
    }
   ],
   "source": [
    "1 < 3 and 3 < 2"
   ]
  },
  {
   "cell_type": "markdown",
   "id": "7be69526",
   "metadata": {},
   "source": [
    "It's important to note that Python is checking both instances of the comparisons. We can also use or to write comparisons in Python. For example:"
   ]
  },
  {
   "cell_type": "code",
   "execution_count": 8,
   "id": "a4c3702f",
   "metadata": {},
   "outputs": [
    {
     "data": {
      "text/plain": [
       "True"
      ]
     },
     "execution_count": 8,
     "metadata": {},
     "output_type": "execute_result"
    }
   ],
   "source": [
    "1 == 2 or 2 < 3"
   ]
  },
  {
   "cell_type": "markdown",
   "id": "9825e27a",
   "metadata": {},
   "source": [
    "Note how it was true; this is because with the or operator, we only need one or the other to be true. Let's see one more example to drive this home:"
   ]
  },
  {
   "cell_type": "code",
   "execution_count": 9,
   "id": "4a363fcf",
   "metadata": {},
   "outputs": [
    {
     "data": {
      "text/plain": [
       "True"
      ]
     },
     "execution_count": 9,
     "metadata": {},
     "output_type": "execute_result"
    }
   ],
   "source": [
    "1 == 1 or 100 == 1"
   ]
  },
  {
   "cell_type": "code",
   "execution_count": 10,
   "id": "d58f0e50",
   "metadata": {},
   "outputs": [
    {
     "data": {
      "text/plain": [
       "True"
      ]
     },
     "execution_count": 10,
     "metadata": {},
     "output_type": "execute_result"
    }
   ],
   "source": [
    "11 <= 20"
   ]
  },
  {
   "cell_type": "code",
   "execution_count": 11,
   "id": "fd69e231",
   "metadata": {},
   "outputs": [
    {
     "data": {
      "text/plain": [
       "False"
      ]
     },
     "execution_count": 11,
     "metadata": {},
     "output_type": "execute_result"
    }
   ],
   "source": [
    "not 11 <= 20"
   ]
  },
  {
   "cell_type": "markdown",
   "id": "652924b9",
   "metadata": {},
   "source": [
    "not statement is used to get the opposite of the result of check, like is the condition is ture then not statement will give faluse."
   ]
  },
  {
   "cell_type": "code",
   "execution_count": null,
   "id": "d51f6f7c",
   "metadata": {},
   "outputs": [],
   "source": []
  }
 ],
 "metadata": {
  "kernelspec": {
   "display_name": "Python 3 (ipykernel)",
   "language": "python",
   "name": "python3"
  },
  "language_info": {
   "codemirror_mode": {
    "name": "ipython",
    "version": 3
   },
   "file_extension": ".py",
   "mimetype": "text/x-python",
   "name": "python",
   "nbconvert_exporter": "python",
   "pygments_lexer": "ipython3",
   "version": "3.9.7"
  }
 },
 "nbformat": 4,
 "nbformat_minor": 5
}
